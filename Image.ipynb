{
 "cells": [
  {
   "cell_type": "code",
   "execution_count": 7,
   "id": "1a9803d7-4353-4bff-a687-6127abf8e6d2",
   "metadata": {},
   "outputs": [],
   "source": [
    "import pandas as pd\n",
    "import os\n",
    "import re\n",
    "import torch\n",
    "from torchvision import models, transforms\n",
    "from PIL import Image\n",
    "from sklearn.model_selection import train_test_split\n",
    "from sklearn.ensemble import RandomForestRegressor\n",
    "from sklearn.metrics import mean_squared_error\n",
    "import requests\n",
    "import io\n",
    "import numpy as np\n"
   ]
  },
  {
   "cell_type": "code",
   "execution_count": null,
   "id": "66b1eaf4-e20f-4f48-b1a1-c03b2e1e3198",
   "metadata": {},
   "outputs": [],
   "source": [
    "train_df = pd.read_csv('dataset/train.csv') # So this Train_df contains coloumns like index,image_link,group_id,entity_name,  entity_value(target value)\n",
    "\n",
    "\n",
    "\n",
    "test_df = pd.read_csv('dataset/test.csv') # So this is the test_df coloumns like index,image_link,group_id,entity_name Target - entity value\n"
   ]
  },
  {
   "cell_type": "code",
   "execution_count": null,
   "id": "982633e0-f7bd-488e-a79b-f6fee2d4a49f",
   "metadata": {},
   "outputs": [],
   "source": [
    "# This is one of the preprocessing steps to perform.\n",
    "preprocess = transforms.Compose([\n",
    "    transforms.Resize((224, 224)),  \n",
    "    transforms.ToTensor(),          \n",
    "    transforms.Normalize(mean=[0.485, 0.456, 0.406], std=[0.229, 0.224, 0.225]),  \n",
    "])\n",
    "\n",
    "\n",
    "# This function will take the image_url and convert it to tensor.So basically,tensor is more easier to work with the model we are going to use ahead.\n",
    "def download_and_preprocess_image(image_url):\n",
    "    try:\n",
    "        response = requests.get(image_url)\n",
    "        image = Image.open(BytesIO(response.content)).convert('RGB')  \n",
    "        image_tensor = preprocess(image).unsqueeze(0) \n",
    "        return image_tensor\n",
    "    except Exception as e:\n",
    "        print(f\"Error processing image {image_url}: {e}\")\n",
    "        return None\n",
    "\n",
    "# We apply this function to our training data\n",
    "train_df['image_tensor'] = train_df['image_link'].apply(download_and_preprocess_image)\n",
    "# Now the train_df has the image_tensor coloumn\n"
   ]
  },
  {
   "cell_type": "code",
   "execution_count": null,
   "id": "1b5bd66b-3007-4ab4-81bd-e36a38c8f1e6",
   "metadata": {},
   "outputs": [],
   "source": [
    "# We will be using resnet50 model from pytorch\n",
    "model = models.resnet50(pretrained=True)\n",
    "model.eval()\n",
    "\n",
    "# This function takes in the image tensor and returns with the features(array) from the image tensor\n",
    "def extract_features(image_tensor):\n",
    "    with torch.no_grad():\n",
    "        features = model(image_tensor)\n",
    "    return features.flatten().cpu().numpy()\n",
    "\n",
    "# We apply our extract_features function to our training data\n",
    "train_df['features'] = train_df['image_tensor'].apply(extract_features)\n",
    "\n",
    "# We prepare the X_train and Y_train using numpy\n",
    "X_train = np.stack(train_df['features'].values)\n",
    "\n",
    "y_train = train_df['entity_value']  "
   ]
  },
  {
   "cell_type": "code",
   "execution_count": null,
   "id": "8414fdc8-c84f-4b00-b3a9-550a722f59e3",
   "metadata": {},
   "outputs": [],
   "source": [
    "# So basically from the train data.80% will be used to train the data and 20% used to test the data.\n",
    "# Ok so this model uses random decsion trees to genrate predections.\n",
    "X_train_split, X_val, y_train_split, y_val = train_test_split(X_train, y_train, test_size=0.2, random_state=42)\n",
    "\n",
    "\n",
    "model = RandomForestRegressor(n_estimators=100, random_state=42)\n",
    "\n",
    "model.fit(X_train_split, y_train_split)\n",
    "\n",
    "# We make predections from the remaining 20 % of data from train_df.\n",
    "val_predictions = model.predict(X_val)\n",
    "print(f\"Validation predictions: {val_predictions}\")"
   ]
  },
  {
   "cell_type": "code",
   "execution_count": null,
   "id": "6b5e2709-a191-495d-a106-7b6952e5423d",
   "metadata": {},
   "outputs": [],
   "source": [
    "\n",
    "# Now we make predections for new data.So now we get image tensor and features as we did with train_df.\n",
    "\n",
    "test_df['image_tensor'] = test_df['image_link'].apply(download_and_preprocess_image)\n",
    "test_df['features'] = test_df['image_tensor'].apply(extract_features)\n",
    "\n",
    "\n",
    "# Now we make predections for our test data\n",
    "X_test = np.stack(test_df['features'].values)\n",
    "\n",
    "#predection part\n",
    "test_predictions = model.predict(X_test)\n",
    "\n",
    "\n",
    "# This function will just format the predections\n",
    "def format_prediction(pred):\n",
    "    return f\"{pred:.2f}\"  \n",
    "\n",
    "test_df['prediction'] = test_predictions.apply(format_prediction)"
   ]
  },
  {
   "cell_type": "code",
   "execution_count": null,
   "id": "7c76fbd5-175d-477d-b8ea-78b9c6f9d092",
   "metadata": {},
   "outputs": [],
   "source": [
    "# The format requested in the problem statement \n",
    "output_df = pd.DataFrame({\n",
    "    'index': test_df['index'],\n",
    "    'prediction': test_df['prediction']\n",
    "})\n",
    "\n",
    "# Main csv that will be created\n",
    "output_filename = 'final_predictions.csv'\n",
    "output_df.to_csv(output_filename)\n",
    "\n"
   ]
  }
 ],
 "metadata": {
  "kernelspec": {
   "display_name": "Python 3 (ipykernel)",
   "language": "python",
   "name": "python3"
  },
  "language_info": {
   "codemirror_mode": {
    "name": "ipython",
    "version": 3
   },
   "file_extension": ".py",
   "mimetype": "text/x-python",
   "name": "python",
   "nbconvert_exporter": "python",
   "pygments_lexer": "ipython3",
   "version": "3.12.3"
  }
 },
 "nbformat": 4,
 "nbformat_minor": 5
}
