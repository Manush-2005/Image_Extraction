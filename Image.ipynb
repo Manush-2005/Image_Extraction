{
 "cells": [
  {
   "cell_type": "code",
   "execution_count": 32,
   "id": "1a9803d7-4353-4bff-a687-6127abf8e6d2",
   "metadata": {},
   "outputs": [],
   "source": [
    "import pandas as pd\n",
    "import os\n",
    "import re\n",
    "import torch\n",
    "from torchvision import models, transforms\n",
    "from PIL import Image\n",
    "from sklearn.model_selection import train_test_split\n",
    "from sklearn.ensemble import RandomForestRegressor\n",
    "from sklearn.metrics import mean_squared_error\n",
    "import requests\n",
    "import io\n",
    "import numpy as np\n"
   ]
  },
  {
   "cell_type": "code",
   "execution_count": 33,
   "id": "66b1eaf4-e20f-4f48-b1a1-c03b2e1e3198",
   "metadata": {},
   "outputs": [],
   "source": [
    "train_df = pd.read_csv(\"train.csv\") # So this Train_df contains coloumns like index,image_link,group_id,entity_name,  entity_value(target value)\n",
    "\n",
    "\n",
    "\n",
    "test_df = pd.read_csv('test.csv') # So this is the test_df coloumns like index,image_link,group_id,entity_name Target - entity value\n"
   ]
  },
  {
   "cell_type": "code",
   "execution_count": 36,
   "id": "982633e0-f7bd-488e-a79b-f6fee2d4a49f",
   "metadata": {},
   "outputs": [],
   "source": [
    "# This is one of the preprocessing steps to perform.\n",
    "preprocess = transforms.Compose([\n",
    "    transforms.Resize((224, 224)),  \n",
    "    transforms.ToTensor(),          \n",
    "    transforms.Normalize(mean=[0.485, 0.456, 0.406], std=[0.229, 0.224, 0.225]),  \n",
    "])\n",
    "\n",
    "\n",
    "# This function will take the image_url and convert it to tensor.So basically,tensor is more easier to work with the model we are going to use ahead.\n",
    "def download_and_preprocess_image(image_url):\n",
    "    try:\n",
    "        response = requests.get(image_url)\n",
    "        image = Image.open(io.BytesIO(response.content)).convert('RGB')  \n",
    "        image_tensor = preprocess(image).unsqueeze(0) \n",
    "        return image_tensor\n",
    "    except Exception as e:\n",
    "        print(f\"Error processing image {image_url}: {e}\")\n",
    "        return None\n",
    "\n",
    "# We apply this function to our training data\n",
    "train_df['image_tensor'] = train_df['image_link'].apply(download_and_preprocess_image)\n",
    "# Now the train_df has the image_tensor coloumn\n"
   ]
  },
  {
   "cell_type": "code",
   "execution_count": 37,
   "id": "1b5bd66b-3007-4ab4-81bd-e36a38c8f1e6",
   "metadata": {},
   "outputs": [
    {
     "name": "stderr",
     "output_type": "stream",
     "text": [
      "C:\\Users\\Manush\\AppData\\Local\\Programs\\Python\\Python312\\Lib\\site-packages\\torchvision\\models\\_utils.py:208: UserWarning: The parameter 'pretrained' is deprecated since 0.13 and may be removed in the future, please use 'weights' instead.\n",
      "  warnings.warn(\n",
      "C:\\Users\\Manush\\AppData\\Local\\Programs\\Python\\Python312\\Lib\\site-packages\\torchvision\\models\\_utils.py:223: UserWarning: Arguments other than a weight enum or `None` for 'weights' are deprecated since 0.13 and may be removed in the future. The current behavior is equivalent to passing `weights=ResNet50_Weights.IMAGENET1K_V1`. You can also use `weights=ResNet50_Weights.DEFAULT` to get the most up-to-date weights.\n",
      "  warnings.warn(msg)\n"
     ]
    }
   ],
   "source": [
    "# We will be using resnet50 model from pytorch\n",
    "model = models.resnet50(pretrained=True)\n",
    "model.eval()\n",
    "\n",
    "# This function takes in the image tensor and returns with the features(array) from the image tensor\n",
    "def extract_features(image_tensor):\n",
    "    with torch.no_grad():\n",
    "        features = model(image_tensor)\n",
    "    return features.flatten().cpu().numpy()\n",
    "\n",
    "# We apply our extract_features function to our training data\n",
    "train_df['features'] = train_df['image_tensor'].apply(extract_features)\n",
    "\n"
   ]
  },
  {
   "cell_type": "code",
   "execution_count": 38,
   "id": "0839aaf5-d57d-49b3-8e82-5c337af228e3",
   "metadata": {},
   "outputs": [],
   "source": [
    "import re\n",
    "\n",
    "#The entity value is string in nature so this function extracts float no from the string and also it differates the unit.\n",
    "def split_entity_value(entity_value):\n",
    "    try:\n",
    "        # Use regex to separate the numeric value and the unit (e.g., '34 gram')\n",
    "        match = re.match(r\"([0-9]*\\.?[0-9]+)\\s*([a-zA-Z]+)\", entity_value)\n",
    "        \n",
    "        if match:\n",
    "            # Extract the numeric part and convert it to float\n",
    "            numeric_value = float(match.group(1))\n",
    "            # Extract the unit part (e.g., gram, centimetre)\n",
    "            unit = match.group(2)\n",
    "            return numeric_value, unit\n",
    "        else:\n",
    "            # If no match, return None for both\n",
    "            return None, None\n",
    "    except Exception as e:\n",
    "        print(f\"Error splitting entity_value '{entity_value}': {e}\")\n",
    "        return None, None\n",
    "\n",
    "# Step 2: Apply the function to the train_df to create separate columns for numeric and unit\n",
    "train_df['numeric_value'], train_df['unit'] = zip(*train_df['entity_value'].apply(split_entity_value))\n",
    "\n",
    "# Drops the null values for train_df\n",
    "\n",
    "train_df = train_df.dropna(subset=['numeric_value','features'])\n",
    "\n",
    "# Getting y_train value which will be the numeric_value extracted\n",
    "y_train = train_df['numeric_value']  \n",
    "\n",
    "\n",
    "# Getting the x_train value which will be the features extracted\n",
    "X_train = np.stack(train_df['features'].values)\n",
    "\n",
    "        \n",
    "    "
   ]
  },
  {
   "cell_type": "code",
   "execution_count": 39,
   "id": "8414fdc8-c84f-4b00-b3a9-550a722f59e3",
   "metadata": {},
   "outputs": [
    {
     "name": "stdout",
     "output_type": "stream",
     "text": [
      "Validation predictions: [242.16416    495.94244667 338.62997    118.88649    153.71622333\n",
      " 116.87017     52.15111667 101.72648    173.8763     149.65457\n",
      " 129.21929333 184.18154667 333.18992333 125.70472333 131.00667333\n",
      " 964.21328    170.5508     143.63981333 240.14147333 318.24435333]\n"
     ]
    }
   ],
   "source": [
    "# Our main goal is to use an regression model to predict entity_value based on the features provided.\n",
    "# So basically from the train data.80% will be used to train the data and 20% used to test the data.\n",
    "\n",
    "X_train_split, X_val, y_train_split, y_val = train_test_split(X_train, y_train, test_size=0.2, random_state=42)\n",
    "\n",
    "\n",
    "Randomn = RandomForestRegressor(n_estimators=100, random_state=42)\n",
    "\n",
    "Randomn.fit(X_train_split, y_train_split)\n",
    "\n",
    "# We make predections from the remaining 20 % of data from train_df.\n",
    "val_predictions = Randomn.predict(X_val)\n"
   ]
  },
  {
   "cell_type": "code",
   "execution_count": 40,
   "id": "6b5e2709-a191-495d-a106-7b6952e5423d",
   "metadata": {},
   "outputs": [],
   "source": [
    "\n",
    "# Now we make predections for test data given.So now we apply the image_tensor and image_link function on test_df\n",
    "\n",
    "test_df['image_tensor'] = test_df['image_link'].apply(download_and_preprocess_image)\n",
    "test_df['features'] = test_df['image_tensor'].apply(extract_features)\n",
    "train_df = train_df.dropna(subset=['features'])\n",
    "\n",
    "# Now we make predections for our test data\n",
    "X_test = np.stack(test_df['features'].values)\n",
    "\n",
    "#predection part\n",
    "test_predictions = Randomn.predict(X_test)\n",
    "\n",
    "\n",
    "# We make an new coloumn called preds which contain predections\n",
    "test_predictions\n",
    "test_df[\"preds\"] = test_predictions"
   ]
  },
  {
   "cell_type": "code",
   "execution_count": 41,
   "id": "c822f74b-7bed-41bc-961d-81be6bd45c40",
   "metadata": {},
   "outputs": [],
   "source": [
    "# Based on the unique entity_name we have created an map to map the units better.\n",
    "entity_to_unit = {\n",
    "    'height': 'centimetre',\n",
    "    'width': 'centimetre',\n",
    "    'depth': 'centimetre',\n",
    "    'item_weight': 'gram',  \n",
    "    'maximum_weight_recommendation': 'kilogram',\n",
    "    'wattage': 'watt',\n",
    "    'voltage': 'volt',\n",
    "    'item_volume': 'millilitre', \n",
    "}\n",
    "# This function will map an predection in previous step to its unit\n",
    "def format_prediction(row):\n",
    "    numeric_value = row[\"preds\"]  \n",
    "    entity_name = row['entity_name']          \n",
    "    \n",
    "  \n",
    "    unit = entity_to_unit.get(entity_name, '')\n",
    "    \n",
    "  \n",
    "    if numeric_value:\n",
    "        return f\"{numeric_value:.2f} {unit}\" \n",
    "    else:\n",
    "        return \"\"  \n",
    "# We apply this function to test_df\n",
    "test_df['formatted_prediction'] = test_df.apply(format_prediction, axis=1)"
   ]
  },
  {
   "cell_type": "code",
   "execution_count": 44,
   "id": "7c76fbd5-175d-477d-b8ea-78b9c6f9d092",
   "metadata": {},
   "outputs": [],
   "source": [
    "# We output this in an csv in the format expected.\n",
    "output_df = pd.DataFrame({\n",
    "    'prediction': test_df['formatted_prediction'], \n",
    "})\n",
    "\n",
    "\n",
    "output_df.index = test_df['index']\n",
    "# Main output  csv that will be created\n",
    "output_filename = 'Output.csv'\n",
    "output_df.to_csv(output_filename)\n",
    "\n"
   ]
  },
  {
   "cell_type": "code",
   "execution_count": null,
   "id": "c5d38b4a-6877-49f8-af7a-2c447a5398aa",
   "metadata": {},
   "outputs": [],
   "source": []
  }
 ],
 "metadata": {
  "kernelspec": {
   "display_name": "Python 3 (ipykernel)",
   "language": "python",
   "name": "python3"
  },
  "language_info": {
   "codemirror_mode": {
    "name": "ipython",
    "version": 3
   },
   "file_extension": ".py",
   "mimetype": "text/x-python",
   "name": "python",
   "nbconvert_exporter": "python",
   "pygments_lexer": "ipython3",
   "version": "3.12.3"
  }
 },
 "nbformat": 4,
 "nbformat_minor": 5
}
